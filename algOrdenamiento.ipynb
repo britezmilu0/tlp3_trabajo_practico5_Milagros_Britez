{
 "cells": [
  {
   "cell_type": "markdown",
   "id": "39fa01ff",
   "metadata": {},
   "source": [
    "ALGORITMOS DE ORDENAMIENTO\n"
   ]
  },
  {
   "cell_type": "markdown",
   "id": "899f0541",
   "metadata": {},
   "source": [
    "IMPORTACIONES:"
   ]
  },
  {
   "cell_type": "code",
   "execution_count": 3,
   "id": "f93ba998",
   "metadata": {},
   "outputs": [],
   "source": [
    "import time\n",
    "\n",
    "lista = [55, 23, 78, 12, 45, 89, 34, 67, 90, 11, 22, 33, 44, 66, 77, 88, 99]"
   ]
  },
  {
   "cell_type": "markdown",
   "id": "22fa27ef",
   "metadata": {},
   "source": [
    "GNOME SORT\n",
    "CÓMO FUNCIONA?\n",
    "Empieza desde el segundo elemento.\n",
    "\n",
    "Compara el elemento actual con el anterior:\n",
    "\n",
    "Si están en el orden correcto → avanza.\n",
    "\n",
    "Si están mal → los intercambia y retrocede.\n",
    "\n",
    "Repite hasta que llega al final de la lista."
   ]
  },
  {
   "cell_type": "code",
   "execution_count": 4,
   "id": "51ce537d",
   "metadata": {},
   "outputs": [
    {
     "name": "stdout",
     "output_type": "stream",
     "text": [
      "Lista original:  [55, 23, 78, 12, 45, 89, 34, 67, 90, 11, 22, 33, 44, 66, 77, 88, 99]\n",
      "Lista ordenada:  [11, 12, 22, 23, 33, 34, 44, 45, 55, 66, 67, 77, 78, 88, 89, 90, 99]\n"
     ]
    }
   ],
   "source": [
    "def gnome_sort(arr):\n",
    "    i = 1\n",
    "    while i < len(arr):\n",
    "        if i == 0 or arr[i] >= arr[i - 1]:\n",
    "            i += 1\n",
    "        else:\n",
    "            arr[i], arr[i - 1] = arr[i - 1], arr[i]\n",
    "            i -= 1\n",
    "\n",
    "copia = lista.copy()\n",
    "gnome_sort(copia)\n",
    "print(\"Lista original: \", lista)\n",
    "print(\"Lista ordenada: \", copia)"
   ]
  },
  {
   "cell_type": "markdown",
   "id": "e535af98",
   "metadata": {},
   "source": [
    "\n",
    "Comparación de tiempo de ejecución:"
   ]
  },
  {
   "cell_type": "code",
   "execution_count": 5,
   "id": "5562fd0b",
   "metadata": {},
   "outputs": [
    {
     "name": "stdout",
     "output_type": "stream",
     "text": [
      "Lista: [55, 23, 78, 12, 45, 89, 34, 67, 90, 11, 22, 33, 44, 66, 77, 88, 99]\n",
      "\n",
      "Insertion Sort: 0.0243 Segundos\n",
      "Bubble Sort:    0.0477 Segundos\n",
      "Quick Sort:     0.031 Segundos\n",
      "Tim Sort:       0.0015 Segundos\n",
      "Gnome Sort:     0.0462 Segundos\n"
     ]
    }
   ],
   "source": [
    "# Algoritmos\n",
    "\n",
    "def insertion_sort(arr):\n",
    "    for i in range(1, len(arr)):\n",
    "        key = arr[i]\n",
    "        j = i - 1\n",
    "        while j >= 0 and key < arr[j]:\n",
    "            arr[j + 1] = arr[j]\n",
    "            j -= 1\n",
    "        arr[j + 1] = key\n",
    "\n",
    "def bubble_sort(arr):\n",
    "    n = len(arr)\n",
    "    for i in range(n):\n",
    "        for j in range(0, n - i - 1):\n",
    "            if arr[j] > arr[j + 1]:\n",
    "                arr[j], arr[j + 1] = arr[j + 1], arr[j]\n",
    "\n",
    "def quick_sort(arr):\n",
    "    if len(arr) <= 1:\n",
    "        return arr\n",
    "    else:\n",
    "        pivot = arr[0]\n",
    "        menores = [x for x in arr[1:] if x <= pivot]\n",
    "        mayores = [x for x in arr[1:] if x > pivot]\n",
    "        return quick_sort(menores) + [pivot] + quick_sort(mayores)\n",
    "\n",
    "def gnome_sort(arr):\n",
    "    i = 1\n",
    "    while i < len(arr):\n",
    "        if i == 0 or arr[i] >= arr[i - 1]:\n",
    "            i += 1\n",
    "        else:\n",
    "            arr[i], arr[i - 1] = arr[i - 1], arr[i]\n",
    "            i -= 1\n",
    "\n",
    "# Configuración\n",
    "\n",
    "repeticiones = 10000\n",
    "\n",
    "def benchmark(algoritmo):\n",
    "    total = 0\n",
    "    for _ in range(repeticiones):\n",
    "        copia = lista.copy() \n",
    "        t0 = time.time()\n",
    "        algoritmo(copia)\n",
    "        total += (time.time() - t0)\n",
    "    return round((total / repeticiones) * 1000, 4) \n",
    "\n",
    "print(\"Lista:\", lista)\n",
    "print(\"\\nInsertion Sort:\", benchmark(insertion_sort), \"Segundos\")\n",
    "print(\"Bubble Sort:   \", benchmark(bubble_sort), \"Segundos\")\n",
    "print(\"Quick Sort:    \", benchmark(quick_sort), \"Segundos\")\n",
    "print(\"Tim Sort:      \", benchmark(sorted), \"Segundos\")\n",
    "print(\"Gnome Sort:    \", benchmark(gnome_sort), \"Segundos\")"
   ]
  },
  {
   "cell_type": "markdown",
   "id": "2fba9b97",
   "metadata": {},
   "source": [
    "CONCLUSIÓN:\n",
    "¿Cuál fué mas rápido?\n",
    "Según la lista que operamos, el algoritmo mas rápido fue Tim Sort.\n",
    "¿Te sorprendió el resultado?\n",
    "Es bastante llamativo lo rápido que puede ordenar el método Tim sort comparado con los demás.\n",
    "¿Te gustó el algoritmo que elegiste?\n",
    "No me disgutó a pesar de ser uno de los más lentos."
   ]
  }
 ],
 "metadata": {
  "kernelspec": {
   "display_name": "venv",
   "language": "python",
   "name": "python3"
  },
  "language_info": {
   "codemirror_mode": {
    "name": "ipython",
    "version": 3
   },
   "file_extension": ".py",
   "mimetype": "text/x-python",
   "name": "python",
   "nbconvert_exporter": "python",
   "pygments_lexer": "ipython3",
   "version": "3.13.2"
  }
 },
 "nbformat": 4,
 "nbformat_minor": 5
}
